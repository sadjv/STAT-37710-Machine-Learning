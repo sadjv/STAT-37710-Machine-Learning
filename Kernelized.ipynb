{
 "cells": [
  {
   "cell_type": "code",
   "execution_count": 1,
   "id": "fca225fa",
   "metadata": {},
   "outputs": [],
   "source": [
    "import numpy as np \n",
    "import plot_helpers\n",
    "import matplotlib.pyplot as plt"
   ]
  },
  {
   "cell_type": "code",
   "execution_count": 2,
   "id": "fab9732f",
   "metadata": {},
   "outputs": [],
   "source": [
    "num_points = 100 \n",
    "xmin = 0\n",
    "xmax = 10\n",
    "noise = 0.2\n",
    "# create 1-D input data\n",
    "X = np.reshape(np.linspace(xmin, xmax, num_points), [-1, 1])\n",
    "# true functional response\n",
    "F = X + np.sin(X * 5) - np.cos(X * 10)\n",
    "# generate noisy labels\n",
    "Y = F + noise * np.random.randn(num_points, 1)\n",
    "# Training Data\n",
    "training_idx = np.arange(0, 50, 2) \n",
    "Xtr = X[training_idx , :]\n",
    "Ytr = Y[training_idx]\n",
    "# Test Data\n",
    "test_idx = np.setdiff1d(np.arange(0, num_points,1), training_idx)\n",
    "Xtest = X[test_idx , :] \n",
    "Ytest = Y[test_idx]"
   ]
  },
  {
   "cell_type": "code",
   "execution_count": 3,
   "id": "470a5d61",
   "metadata": {},
   "outputs": [
    {
     "data": {
      "image/png": "[encoded data removed]",
      "text/plain": [
       "<Figure size 432x288 with 1 Axes>"
      ]
     },
     "metadata": {
      "needs_background": "light"
     },
     "output_type": "display_data"
    }
   ],
   "source": [
    "# plot data\n",
    "fig = plt.subplot(111)\n",
    "opt = {'marker': 'r*', 'label': 'Training␣data'} \n",
    "plot_helpers.plot_data(Xtr, Ytr, fig=fig, options=opt)\n",
    "opt = {'marker': 'bo', 'label': 'Test␣data'} \n",
    "plot_helpers.plot_data(Xtest, Ytest, fig=fig, options=opt) \n",
    "opt = {'marker': 'k-', 'label': 'True␣Function',\n",
    "'x_label': '$x$', 'y_label': '$y$', 'legend': True,\n",
    "'linewidth': 2}\n",
    "plot_helpers.plot_data(X, F, fig=fig, options=opt)"
   ]
  },
  {
   "cell_type": "code",
   "execution_count": 28,
   "id": "18ffd790",
   "metadata": {},
   "outputs": [],
   "source": [
    "# problem 1\n",
    "from numpy import linalg as la\n",
    "from sklearn.metrics import mean_squared_error"
   ]
  },
  {
   "cell_type": "code",
   "execution_count": 29,
   "id": "1bb06454",
   "metadata": {},
   "outputs": [],
   "source": [
    "def kerpoly(x1,x2,d):\n",
    "    return (1+np.dot(x1,x2))**d"
   ]
  },
  {
   "cell_type": "code",
   "execution_count": 30,
   "id": "b7aade77",
   "metadata": {},
   "outputs": [],
   "source": [
    "def calculate_alpha(Xtr, Ytr, polydegree=1, lam=0.01):\n",
    "    n = len(Xtr)\n",
    "    Kernel = np.zeros((n,n))\n",
    "    for i in range(n):\n",
    "        for j in range(n):\n",
    "            Kernel[i,j] = kerpoly(Xtr[i],Xtr[j],polydegree)\n",
    "    w, v = la.eig(Kernel)\n",
    "    w = 1/(w + (n*lam))\n",
    "    M = v@np.diag(w)@v.T\n",
    "    alpha = np.real(M@Ytr)\n",
    "    \n",
    "\n",
    "    return alpha"
   ]
  },
  {
   "cell_type": "code",
   "execution_count": 34,
   "id": "19dc0630",
   "metadata": {},
   "outputs": [],
   "source": [
    "def predict(alpha, Xtr, Xtest,deg):\n",
    "    Yhat = np.zeros(m)\n",
    "    for i in range(m):\n",
    "        for j in range(n):\n",
    "            Yhat[i] = Yhat[i] + alpha[j]*kerpoly(Xtr[j],Xtest[i],deg)\n",
    "            \n",
    "    return Yhat"
   ]
  },
  {
   "cell_type": "code",
   "execution_count": 35,
   "id": "0c672e19",
   "metadata": {},
   "outputs": [
    {
     "name": "stdout",
     "output_type": "stream",
     "text": [
      "1.1046482671423787\n"
     ]
    }
   ],
   "source": [
    "# d = 1 \n",
    "alpha = calculate_alpha(Xtr,Ytr)\n",
    "n = len(alpha)\n",
    "m = len(Xtest)\n",
    "Yhat1 = predict(alpha,Xtr,Xtest,1)\n",
    "MSE1 = mean_squared_error(Yhat1, Ytest)\n",
    "print(MSE1)"
   ]
  },
  {
   "cell_type": "code",
   "execution_count": 36,
   "id": "34062055",
   "metadata": {},
   "outputs": [
    {
     "name": "stdout",
     "output_type": "stream",
     "text": [
      "1.122715084861394\n"
     ]
    }
   ],
   "source": [
    "# d = 2\n",
    "alpha = calculate_alpha(Xtr,Ytr,polydegree=2)\n",
    "n = len(alpha)\n",
    "m = len(Xtest)\n",
    "Yhat2 = predict(alpha,Xtr,Xtest,2)\n",
    "MSE2 = mean_squared_error(Yhat2, Ytest)\n",
    "print(MSE2)"
   ]
  },
  {
   "cell_type": "code",
   "execution_count": 37,
   "id": "e0b35c9b",
   "metadata": {},
   "outputs": [
    {
     "name": "stdout",
     "output_type": "stream",
     "text": [
      "108.55065627078943\n"
     ]
    }
   ],
   "source": [
    "# d = 3\n",
    "alpha = calculate_alpha(Xtr,Ytr,polydegree=3)\n",
    "n = len(alpha)\n",
    "m = len(Xtest)\n",
    "Yhat3 = predict(alpha,Xtr,Xtest,3)\n",
    "MSE3 = mean_squared_error(Yhat3, Ytest)\n",
    "print(MSE3)"
   ]
  },
  {
   "cell_type": "code",
   "execution_count": 38,
   "id": "7c6cd170",
   "metadata": {},
   "outputs": [
    {
     "name": "stdout",
     "output_type": "stream",
     "text": [
      "When degree d=1, MSE of the model is 1.10. When degree d=2, MSE of the model is 1.12. When degree d=3, MSE of the model is 108.55.\n"
     ]
    }
   ],
   "source": [
    "print('When degree d=1, MSE of the model is {:.2f}. When degree d=2, MSE of the model is {:.2f}. When degree d=3, MSE of the model is {:.2f}.'.format(MSE1,MSE2,MSE3))"
   ]
  },
  {
   "cell_type": "code",
   "execution_count": 12,
   "id": "9fb2da21",
   "metadata": {},
   "outputs": [],
   "source": [
    "# problem 2"
   ]
  },
  {
   "cell_type": "code",
   "execution_count": 39,
   "id": "b40dfbc8",
   "metadata": {},
   "outputs": [],
   "source": [
    "def kerper(x1,x2,h,q):\n",
    "    \n",
    "    return np.exp(-2*np.sin(la.norm(x1-x1,ord=q))**2/h)"
   ]
  },
  {
   "cell_type": "code",
   "execution_count": 55,
   "id": "5faa2ca3",
   "metadata": {},
   "outputs": [],
   "source": [
    "def predict1(alpha, Xtr, Xtest,deg,h,q):\n",
    "    Yhat = np.zeros(Xtest.shape[0])\n",
    "    for i in range(Xtest.shape[0]):\n",
    "        for j in range(n):\n",
    "            Yhat[i] = Yhat[i] + alpha[j]*(kerpoly(Xtr[j],Xtest[i],deg) + kerper(Xtr[j],Xtest[i],h,q))\n",
    "            \n",
    "    return Yhat"
   ]
  },
  {
   "cell_type": "code",
   "execution_count": 56,
   "id": "484a673a",
   "metadata": {},
   "outputs": [],
   "source": [
    "def calculate_alpha1(Xtr, Ytr, polydegree=1, lam=0.01, h=0.2, q=1):\n",
    "    n = len(Xtr)\n",
    "    Kernel = np.zeros((n,n))\n",
    "    for i in range(n):\n",
    "        for j in range(n):\n",
    "            Kernel[i,j] = kerpoly(Xtr[i],Xtr[j],polydegree) + kerper(Xtr[i],Xtr[j],h,q)\n",
    "    w, v = la.eig(Kernel)\n",
    "    w = 1/(w + (n*lam))\n",
    "    M = v@np.diag(w)@v.T\n",
    "    alpha = np.real(M@Ytr)\n",
    "    \n",
    "\n",
    "    return alpha"
   ]
  },
  {
   "cell_type": "code",
   "execution_count": 57,
   "id": "213811d9",
   "metadata": {},
   "outputs": [
    {
     "name": "stdout",
     "output_type": "stream",
     "text": [
      "1.1067094638924502\n"
     ]
    }
   ],
   "source": [
    "# d = 1 h = 0.2 q = 1\n",
    "alpha = calculate_alpha1(Xtr,Ytr)\n",
    "n = len(alpha)\n",
    "m = len(Xtest)\n",
    "Yhat1 = predict1(alpha,Xtr,Xtest,1,0.2,1)\n",
    "MSE1 = mean_squared_error(Yhat1, Ytest)\n",
    "print(MSE1)"
   ]
  },
  {
   "cell_type": "code",
   "execution_count": 58,
   "id": "0ccd6d93",
   "metadata": {},
   "outputs": [
    {
     "name": "stdout",
     "output_type": "stream",
     "text": [
      "For Kernel_sum, MSE is 1.11\n"
     ]
    }
   ],
   "source": [
    "print('For Kernel_sum, MSE is {:.2f}'.format(MSE1))"
   ]
  },
  {
   "cell_type": "code",
   "execution_count": 60,
   "id": "3fb6736e",
   "metadata": {},
   "outputs": [],
   "source": [
    "Yhat2 = predict1(alpha,Xtr,Xtr,1,0.2,1)\n",
    "Xtemp = np.concatenate((Xtest, Xtr), axis=0)\n",
    "Ytemp = np.concatenate((Yhat1, Yhat2), axis=0)"
   ]
  },
  {
   "cell_type": "code",
   "execution_count": 62,
   "id": "c402c05a",
   "metadata": {},
   "outputs": [
    {
     "data": {
      "image/png": "[encoded data removed]",
      "text/plain": [
       "<Figure size 432x288 with 1 Axes>"
      ]
     },
     "metadata": {
      "needs_background": "light"
     },
     "output_type": "display_data"
    }
   ],
   "source": [
    "# plot data\n",
    "fig = plt.subplot(111)\n",
    "opt = {'marker': 'r*', 'label': 'Training␣data'} \n",
    "plot_helpers.plot_data(Xtr, Ytr, fig=fig, options=opt)\n",
    "opt = {'marker': 'bo', 'label': 'Test␣data'} \n",
    "plot_helpers.plot_data(Xtest, Ytest, fig=fig, options=opt) \n",
    "opt = {'marker': 'k-', 'label': 'sum_kernel_prediction',\n",
    "'x_label': '$x$', 'y_label': '$y$', 'legend': True,\n",
    "'linewidth': 2}\n",
    "plot_helpers.plot_data(Xtemp, Ytemp, fig=fig, options=opt)"
   ]
  },
  {
   "cell_type": "code",
   "execution_count": null,
   "id": "eab45ccc",
   "metadata": {},
   "outputs": [],
   "source": []
  }
 ],
 "metadata": {
  "kernelspec": {
   "display_name": "Python 3 (ipykernel)",
   "language": "python",
   "name": "python3"
  },
  "language_info": {
   "codemirror_mode": {
    "name": "ipython",
    "version": 3
   },
   "file_extension": ".py",
   "mimetype": "text/x-python",
   "name": "python",
   "nbconvert_exporter": "python",
   "pygments_lexer": "ipython3",
   "version": "3.9.7"
  }
 },
 "nbformat": 4,
 "nbformat_minor": 5
}
