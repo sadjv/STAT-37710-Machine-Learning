{
 "cells": [
  {
   "cell_type": "code",
   "execution_count": 361,
   "id": "5292a9f3",
   "metadata": {},
   "outputs": [],
   "source": [
    "#python\n",
    "import numpy as np\n",
    "from sklearn.model_selection import train_test_split \n",
    "from sklearn.preprocessing import StandardScaler \n",
    "from sklearn.datasets import make_classification\n",
    "import matplotlib.pyplot as plt\n",
    "\n",
    "X, y = make_classification(n_features=2, n_redundant=0,\n",
    "n_informative=2, random_state=1, n_clusters_per_class =1)\n",
    "rng = np.random.RandomState(2)\n",
    "X += 2 * rng.uniform(size=X.shape) \n",
    "linearly_separable = (X, y)\n",
    "X = StandardScaler().fit_transform(X)\n",
    "for i in range(100):\n",
    "    if y[i]==0:\n",
    "        y[i] = y[i]-1\n",
    "X_train , X_test , y_train , y_test = \\\n",
    "train_test_split(X, y, test_size=.4, random_state=42)"
   ]
  },
  {
   "cell_type": "code",
   "execution_count": 362,
   "id": "8c6773d0",
   "metadata": {},
   "outputs": [],
   "source": [
    "# Initialize fitting parameters\n",
    "import random\n",
    "initial_theta = np.zeros((X.shape[1], 1))\n",
    "# Set regularization parameter lambda and learning rate eta\n",
    "Lambda = 0.1 \n",
    "Eta = 0.01\n",
    "tolerance = 0.0001\n",
    "theta = initial_theta"
   ]
  },
  {
   "cell_type": "code",
   "execution_count": 363,
   "id": "0053757e",
   "metadata": {},
   "outputs": [],
   "source": [
    "def lossFunction(theta, X, y ,Lambda):\n",
    "    loss = np.log(1+np.exp(-y*np.dot(theta.T,X)))\n",
    "    grad = -y*X/(1+np.exp(y*np.dot(theta.T,X)))\n",
    "    return loss, grad"
   ]
  },
  {
   "cell_type": "code",
   "execution_count": 364,
   "id": "ccbb9e12",
   "metadata": {},
   "outputs": [],
   "source": [
    "def gradientDescent(X,y,theta,eta,Lambda,tolerance):\n",
    "    loss, grad = lossFunction(theta, X, y ,Lambda)\n",
    "    theta = theta*(1-2*Eta*Lambda)-Eta*grad\n",
    "    return theta"
   ]
  },
  {
   "cell_type": "code",
   "execution_count": 365,
   "id": "81765a4d",
   "metadata": {},
   "outputs": [],
   "source": [
    "# part b"
   ]
  },
  {
   "cell_type": "code",
   "execution_count": 366,
   "id": "3e96ad5e",
   "metadata": {},
   "outputs": [],
   "source": [
    "# fit the train set\n",
    "from numpy import linalg as LA\n",
    "import time\n",
    "\n",
    "start = time.time()\n",
    "index = random.randint(0,X_train.shape[0]-1)\n",
    "Xv = X_train[index,:].reshape(2,1)\n",
    "yv = y_train[index]\n",
    "loss, grad = lossFunction(theta, Xv, yv,Lambda)\n",
    "i = 0\n",
    "\n",
    "lossfunc = 0\n",
    "for i in range(X_train.shape[0]):\n",
    "    loss, grad = lossFunction(theta, X_train[i,:].reshape(2,1), y_train[i] ,Lambda)\n",
    "    lossfunc = lossfunc + loss\n",
    "losslist = [lossfunc]\n",
    "lossdiff = 10\n",
    "\n",
    "\n",
    "while lossdiff >= tolerance:\n",
    "    i = i+1\n",
    "    theta = gradientDescent(Xv,yv,theta,Eta,Lambda,tolerance)\n",
    "    # update\n",
    "    index = random.randint(0,X_train.shape[0]-1)\n",
    "    Xv = X_train[index,:].reshape(2,1)\n",
    "    yv = y_train[index]\n",
    "    loss, grad = lossFunction(theta, Xv, yv ,Lambda)\n",
    "\n",
    "    lossfunc = 0\n",
    "    for i in range(X_train.shape[0]):\n",
    "        loss, grad = lossFunction(theta, X_train[i,:].reshape(2,1), y_train[i] ,Lambda)\n",
    "        lossfunc = lossfunc + loss\n",
    "    losslist.append(lossfunc)\n",
    "    lossdiff = abs(losslist[-1]-losslist[-2])\n",
    "\n",
    "end = time.time()\n",
    "timer = end - start\n",
    "    "
   ]
  },
  {
   "cell_type": "code",
   "execution_count": 367,
   "id": "036d1b8a",
   "metadata": {},
   "outputs": [
    {
     "name": "stdout",
     "output_type": "stream",
     "text": [
      "(649,)\n"
     ]
    },
    {
     "data": {
      "text/plain": [
       "Text(0.5, 1.0, 'negative log likelihood vs iterations')"
      ]
     },
     "execution_count": 367,
     "metadata": {},
     "output_type": "execute_result"
    },
    {
     "data": {
      "image/png": "[encoded data removed]",
      "text/plain": [
       "<Figure size 432x288 with 1 Axes>"
      ]
     },
     "metadata": {
      "needs_background": "light"
     },
     "output_type": "display_data"
    }
   ],
   "source": [
    "# plot negative log likelihood vs iterations for the train set\n",
    "losslen = len(losslist)\n",
    "losslist = np.array(losslist).reshape(losslen,)\n",
    "mesh = np.linspace(0,losslen,num=losslen)\n",
    "print(losslist.shape)\n",
    "plt.plot(mesh,losslist)\n",
    "plt.title('negative log likelihood vs iterations')"
   ]
  },
  {
   "cell_type": "code",
   "execution_count": 368,
   "id": "b06ff6e0",
   "metadata": {},
   "outputs": [
    {
     "name": "stdout",
     "output_type": "stream",
     "text": [
      "the time for tol=10^-5 is 1.0225956439971924 seconds\n"
     ]
    }
   ],
   "source": [
    "print('the time for tol=10^-5 is {} seconds'.format(timer))"
   ]
  },
  {
   "cell_type": "code",
   "execution_count": 369,
   "id": "6639b3f5",
   "metadata": {},
   "outputs": [],
   "source": [
    "# part c"
   ]
  },
  {
   "cell_type": "code",
   "execution_count": 370,
   "id": "f5955b74",
   "metadata": {},
   "outputs": [
    {
     "name": "stdout",
     "output_type": "stream",
     "text": [
      "the train accuracy is 0.95\n"
     ]
    }
   ],
   "source": [
    "# train accuracy\n",
    "# use # right predicted/total #\n",
    "count = 0\n",
    "for i in range(X_train.shape[0]):\n",
    "    if np.sign(np.dot(theta.T,X_train[i]))==y_train[i]:\n",
    "        count = count + 1\n",
    "        \n",
    "print('the train accuracy is {}'.format(count/X_train.shape[0]))"
   ]
  },
  {
   "cell_type": "code",
   "execution_count": 371,
   "id": "a53e20d9",
   "metadata": {},
   "outputs": [
    {
     "name": "stdout",
     "output_type": "stream",
     "text": [
      "the test accuracy is 0.95\n"
     ]
    }
   ],
   "source": [
    "# test accuracy\n",
    "# use # right predicted/total #\n",
    "count = 0\n",
    "for i in range(X_test.shape[0]):\n",
    "    if np.sign(np.dot(theta.T,X_test[i]))==y_test[i]:\n",
    "        count = count + 1\n",
    "\n",
    "print('the test accuracy is {}'.format(count/X_test.shape[0]))"
   ]
  },
  {
   "cell_type": "code",
   "execution_count": 373,
   "id": "cb5d9f3a",
   "metadata": {},
   "outputs": [
    {
     "data": {
      "text/plain": [
       "Text(0.5, 1.0, 'decision boundary')"
      ]
     },
     "execution_count": 373,
     "metadata": {},
     "output_type": "execute_result"
    },
    {
     "data": {
      "image/png": "[encoded data removed]",
      "text/plain": [
       "<Figure size 432x288 with 1 Axes>"
      ]
     },
     "metadata": {
      "needs_background": "light"
     },
     "output_type": "display_data"
    }
   ],
   "source": [
    "from matplotlib.colors import ListedColormap\n",
    "\n",
    "x_min, x_max = X[:, 0].min() - .5, X[:, 0].max() + .5 \n",
    "y_min, y_max = X[:, 1].min() - .5, X[:, 1].max() + .5 \n",
    "h = .02 # step size in the mesh\n",
    "xx, yy = np.meshgrid(np.arange(x_min, x_max, h),\n",
    "np.arange(y_min , y_max , h))\n",
    "# plot the dataset\n",
    "cm = plt.cm.RdBu\n",
    "cm_bright = ListedColormap(['#FF0000', '#0000FF'])\n",
    "# Plot the training points\n",
    "plt.scatter(X_train[:, 0], X_train[:, 1],c=y_train , cmap=cm_bright ,edgecolors='k')\n",
    "# and test points\n",
    "plt.scatter(X_test[:, 0], X_test[:, 1], c=y_test , cmap=cm_bright, alpha=0.6,edgecolors='k')\n",
    "\n",
    "# Decision boundary\n",
    "a = -theta[0] / theta[1]\n",
    "xx = np.linspace(-0.5, 0.5,num=100)\n",
    "yy = a * xx\n",
    "\n",
    "plt.plot(xx, yy, 'k-')\n",
    "plt.title('decision boundary')"
   ]
  },
  {
   "cell_type": "code",
   "execution_count": null,
   "id": "aea1128b",
   "metadata": {},
   "outputs": [],
   "source": []
  },
  {
   "cell_type": "code",
   "execution_count": null,
   "id": "fd787da5",
   "metadata": {},
   "outputs": [],
   "source": []
  }
 ],
 "metadata": {
  "kernelspec": {
   "display_name": "Python (pycourse)",
   "language": "python",
   "name": "pycourse"
  },
  "language_info": {
   "codemirror_mode": {
    "name": "ipython",
    "version": 3
   },
   "file_extension": ".py",
   "mimetype": "text/x-python",
   "name": "python",
   "nbconvert_exporter": "python",
   "pygments_lexer": "ipython3",
   "version": "3.8.11"
  }
 },
 "nbformat": 4,
 "nbformat_minor": 5
}
